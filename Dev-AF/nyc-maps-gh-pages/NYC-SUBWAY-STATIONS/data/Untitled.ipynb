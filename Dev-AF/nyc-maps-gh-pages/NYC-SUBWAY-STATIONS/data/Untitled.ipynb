{
 "cells": [
  {
   "cell_type": "code",
   "execution_count": 1,
   "metadata": {
    "collapsed": true
   },
   "outputs": [],
   "source": [
    "import geopandas as gp"
   ]
  },
  {
   "cell_type": "code",
   "execution_count": 2,
   "metadata": {
    "collapsed": true
   },
   "outputs": [],
   "source": [
    "data = gp.read_file(\"./ny_subway_stations.geojson\")"
   ]
  },
  {
   "cell_type": "code",
   "execution_count": 3,
   "metadata": {
    "collapsed": false
   },
   "outputs": [
    {
     "data": {
      "text/html": [
       "<div>\n",
       "<table border=\"1\" class=\"dataframe\">\n",
       "  <thead>\n",
       "    <tr style=\"text-align: right;\">\n",
       "      <th></th>\n",
       "      <th>geometry</th>\n",
       "      <th>line</th>\n",
       "      <th>name</th>\n",
       "      <th>url</th>\n",
       "    </tr>\n",
       "  </thead>\n",
       "  <tbody>\n",
       "    <tr>\n",
       "      <th>0</th>\n",
       "      <td>POINT (-73.99027199929638 40.68672833129772)</td>\n",
       "      <td>F-G</td>\n",
       "      <td>Smith St &amp; Bergen St At Ne Corner (To Manhatta...</td>\n",
       "      <td>http://www.mta.info/nyct/service/</td>\n",
       "    </tr>\n",
       "    <tr>\n",
       "      <th>1</th>\n",
       "      <td>POINT (-73.9906780008789 40.69372533216928)</td>\n",
       "      <td>2-3-4-5-N-R</td>\n",
       "      <td>Court St &amp; Montague St At Sw Corner</td>\n",
       "      <td>http://www.mta.info/nyct/service/</td>\n",
       "    </tr>\n",
       "    <tr>\n",
       "      <th>2</th>\n",
       "      <td>POINT (-73.99059199905471 40.69364233162101)</td>\n",
       "      <td>2-3-4-5-N-R</td>\n",
       "      <td>Court St &amp; Montague St At Sw Corner</td>\n",
       "      <td>http://www.mta.info/nyct/service/</td>\n",
       "    </tr>\n",
       "    <tr>\n",
       "      <th>3</th>\n",
       "      <td>POINT (-73.99253735666481 40.69439311951264)</td>\n",
       "      <td>2-3-4-5-N-R</td>\n",
       "      <td>Clinton St &amp; Montague St At Nw Corner</td>\n",
       "      <td>http://www.mta.info/nyct/service/</td>\n",
       "    </tr>\n",
       "    <tr>\n",
       "      <th>4</th>\n",
       "      <td>POINT (-73.96224891505983 40.66272735822238)</td>\n",
       "      <td>B-Q-S</td>\n",
       "      <td>Flatbush Ave &amp; Empire Blvd At Sw Corner</td>\n",
       "      <td>http://www.mta.info/nyct/service/</td>\n",
       "    </tr>\n",
       "  </tbody>\n",
       "</table>\n",
       "</div>"
      ],
      "text/plain": [
       "                                       geometry         line  \\\n",
       "0  POINT (-73.99027199929638 40.68672833129772)          F-G   \n",
       "1   POINT (-73.9906780008789 40.69372533216928)  2-3-4-5-N-R   \n",
       "2  POINT (-73.99059199905471 40.69364233162101)  2-3-4-5-N-R   \n",
       "3  POINT (-73.99253735666481 40.69439311951264)  2-3-4-5-N-R   \n",
       "4  POINT (-73.96224891505983 40.66272735822238)        B-Q-S   \n",
       "\n",
       "                                                name  \\\n",
       "0  Smith St & Bergen St At Ne Corner (To Manhatta...   \n",
       "1                Court St & Montague St At Sw Corner   \n",
       "2                Court St & Montague St At Sw Corner   \n",
       "3              Clinton St & Montague St At Nw Corner   \n",
       "4            Flatbush Ave & Empire Blvd At Sw Corner   \n",
       "\n",
       "                                 url  \n",
       "0  http://www.mta.info/nyct/service/  \n",
       "1  http://www.mta.info/nyct/service/  \n",
       "2  http://www.mta.info/nyct/service/  \n",
       "3  http://www.mta.info/nyct/service/  \n",
       "4  http://www.mta.info/nyct/service/  "
      ]
     },
     "execution_count": 3,
     "metadata": {},
     "output_type": "execute_result"
    }
   ],
   "source": [
    "data.head()"
   ]
  },
  {
   "cell_type": "code",
   "execution_count": 7,
   "metadata": {
    "collapsed": false
   },
   "outputs": [
    {
     "data": {
      "text/plain": [
       "'hello llo '"
      ]
     },
     "execution_count": 7,
     "metadata": {},
     "output_type": "execute_result"
    }
   ],
   "source": [
    "import re\n",
    "pattern = \"\\-\"\n",
    "astring = \"hello-llo-\"\n",
    "re.sub(pattern, \" \", astring)"
   ]
  },
  {
   "cell_type": "code",
   "execution_count": 12,
   "metadata": {
    "collapsed": false
   },
   "outputs": [],
   "source": [
    "data.line = [re.sub(pattern, \"\", subway_line) for subway_line in data.line]"
   ]
  },
  {
   "cell_type": "code",
   "execution_count": 14,
   "metadata": {
    "collapsed": false
   },
   "outputs": [],
   "source": [
    "geojson_string = data.to_json()"
   ]
  },
  {
   "cell_type": "code",
   "execution_count": 20,
   "metadata": {
    "collapsed": false
   },
   "outputs": [],
   "source": [
    "import json\n",
    "output_filename = 'test.geojson'\n",
    "with open(output_filename, 'w') as output_file:\n",
    "    output_file.write('')\n",
    "    json.dump(geojson_string, output_file)"
   ]
  },
  {
   "cell_type": "code",
   "execution_count": null,
   "metadata": {
    "collapsed": true
   },
   "outputs": [],
   "source": []
  }
 ],
 "metadata": {
  "kernelspec": {
   "display_name": "Python 3",
   "language": "python",
   "name": "python3"
  },
  "language_info": {
   "codemirror_mode": {
    "name": "ipython",
    "version": 3
   },
   "file_extension": ".py",
   "mimetype": "text/x-python",
   "name": "python",
   "nbconvert_exporter": "python",
   "pygments_lexer": "ipython3",
   "version": "3.5.0"
  }
 },
 "nbformat": 4,
 "nbformat_minor": 0
}
