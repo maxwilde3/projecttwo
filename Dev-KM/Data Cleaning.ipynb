{
 "cells": [
  {
   "cell_type": "markdown",
   "metadata": {},
   "source": [
    "# 2013-2017 ELA (English Language Arts) and Math Test State Results"
   ]
  },
  {
   "cell_type": "code",
   "execution_count": 12,
   "metadata": {},
   "outputs": [],
   "source": [
    "# dependencies\n",
    "\n",
    "import pandas as pd\n",
    "import numpy as np\n",
    "import matplotlib.pyplot as plt\n",
    "import scipy.stats as stats\n",
    "import requests\n",
    "import json"
   ]
  },
  {
   "cell_type": "markdown",
   "metadata": {},
   "source": [
    "## Data\n",
    "\n",
    "*2013-2017 New York State Test Data by Borough and Grade:*\n",
    "\n",
    "**ELA** https://data.cityofnewyork.us/Education/2013-2017-ELA-Test-Results-by-Grade-Borough-All/mi8r-ff2q <br>\n",
    "**Math** https://data.cityofnewyork.us/Education/2013-2017-Borough-Math-Results-All/qjx7-9mep\n",
    "\n",
    "*And further broken down by economic status:*\n",
    "\n",
    "**ELA** https://data.cityofnewyork.us/Education/2013-2017-Borough-ELA-Results-Economic/xkkx-md5q <br>\n",
    "**Math** https://data.cityofnewyork.us/Education/2013-2017-Borough-Math-Results-Economic/vpdq-ktpr\n",
    "\n",
    "*And further broken down by race/ethnicity:*\n",
    "\n",
    "**ELA** https://data.cityofnewyork.us/Education/2013-2017-Borough-ELA-Results-Ethnic/kjey-zuvr <br>\n",
    "**Math** https://data.cityofnewyork.us/Education/2013-2017-Borough-Math-Results-Ethnic/tph5-57et\n",
    "\n",
    "*And further broken down by gender:*\n",
    "\n",
    "**ELA** https://data.cityofnewyork.us/Education/2013-2017-Borough-ELA-Results-Gender/5hiy-kwc2 <br>\n",
    "**Math** https://data.cityofnewyork.us/Education/2013-2017-Borough-Math-Results-Gender/48ka-f6z6"
   ]
  },
  {
   "cell_type": "markdown",
   "metadata": {},
   "source": [
    "### API"
   ]
  },
  {
   "cell_type": "code",
   "execution_count": 13,
   "metadata": {},
   "outputs": [],
   "source": [
    "# API URLs\n",
    "ela_all_url = 'https://data.cityofnewyork.us/resource/mi8r-ff2q.json'\n",
    "math_all_url = 'https://data.cityofnewyork.us/resource/qjx7-9mep.json'\n",
    "\n",
    "ela_eco_url = 'https://data.cityofnewyork.us/resource/xkkx-md5q.json'\n",
    "math_eco_url = 'https://data.cityofnewyork.us/resource/vpdq-ktpr.json'\n",
    "\n",
    "ela_race_url = 'https://data.cityofnewyork.us/resource/kjey-zuvr.json'\n",
    "math_race_url = 'https://data.cityofnewyork.us/resource/tph5-57et.json'\n",
    "\n",
    "ela_gender_url = 'https://data.cityofnewyork.us/resource/5hiy-kwc2.json'\n",
    "math_gender_url = 'https://data.cityofnewyork.us/resource/48ka-f6z6.json'"
   ]
  },
  {
   "cell_type": "markdown",
   "metadata": {},
   "source": [
    "#### All Results"
   ]
  },
  {
   "cell_type": "code",
   "execution_count": 14,
   "metadata": {},
   "outputs": [
    {
     "name": "stdout",
     "output_type": "stream",
     "text": [
      "ELA Row Count: 175\n",
      "['borough', 'grade', 'year', 'category', 'number_tested', 'mean_scale_score', 'level1_n', 'level1_', 'level2_n', 'level2_', 'level3_n', 'level3_', 'level4_n', 'level4_', 'level3_4_n', 'level3_4_']\n",
      "Math Row Count: 175\n",
      "['borough', 'grade', 'year', 'category', 'number_tested', 'mean_scale_score', 'level1_n', 'level1_', 'level2_n', 'level2_', 'level3_n', 'level3_', 'level4_n', 'level4_', 'level3_4_n', 'level3_4_']\n"
     ]
    },
    {
     "data": {
      "text/html": [
       "<div>\n",
       "<style scoped>\n",
       "    .dataframe tbody tr th:only-of-type {\n",
       "        vertical-align: middle;\n",
       "    }\n",
       "\n",
       "    .dataframe tbody tr th {\n",
       "        vertical-align: top;\n",
       "    }\n",
       "\n",
       "    .dataframe thead th {\n",
       "        text-align: right;\n",
       "    }\n",
       "</style>\n",
       "<table border=\"1\" class=\"dataframe\">\n",
       "  <thead>\n",
       "    <tr style=\"text-align: right;\">\n",
       "      <th></th>\n",
       "      <th>borough</th>\n",
       "      <th>grade</th>\n",
       "      <th>year</th>\n",
       "      <th>category</th>\n",
       "      <th>number_tested</th>\n",
       "      <th>mean_scale_score</th>\n",
       "      <th>level1_n</th>\n",
       "      <th>level1_</th>\n",
       "      <th>level2_n</th>\n",
       "      <th>level2_</th>\n",
       "      <th>level3_n</th>\n",
       "      <th>level3_</th>\n",
       "      <th>level4_n</th>\n",
       "      <th>level4_</th>\n",
       "      <th>level3_4_n</th>\n",
       "      <th>level3_4_</th>\n",
       "    </tr>\n",
       "  </thead>\n",
       "  <tbody>\n",
       "    <tr>\n",
       "      <td>0</td>\n",
       "      <td>BRONX</td>\n",
       "      <td>3</td>\n",
       "      <td>2013</td>\n",
       "      <td>All Students</td>\n",
       "      <td>15901</td>\n",
       "      <td>287</td>\n",
       "      <td>7153</td>\n",
       "      <td>45.0</td>\n",
       "      <td>5729</td>\n",
       "      <td>36.0</td>\n",
       "      <td>2216</td>\n",
       "      <td>13.9</td>\n",
       "      <td>803</td>\n",
       "      <td>5.0</td>\n",
       "      <td>3019</td>\n",
       "      <td>19.0</td>\n",
       "    </tr>\n",
       "  </tbody>\n",
       "</table>\n",
       "</div>"
      ],
      "text/plain": [
       "  borough grade  year      category number_tested mean_scale_score level1_n  \\\n",
       "0   BRONX     3  2013  All Students         15901              287     7153   \n",
       "\n",
       "  level1_ level2_n level2_ level3_n level3_ level4_n level4_ level3_4_n  \\\n",
       "0    45.0     5729    36.0     2216    13.9      803     5.0       3019   \n",
       "\n",
       "  level3_4_  \n",
       "0      19.0  "
      ]
     },
     "execution_count": 14,
     "metadata": {},
     "output_type": "execute_result"
    }
   ],
   "source": [
    "# retrieve 2013-2017 test results by borough\n",
    "\n",
    "# ELA\n",
    "ela_results = requests.get(ela_all_url).json()\n",
    "\n",
    "ela_all = pd.DataFrame(ela_results)\n",
    "ela_all.head()\n",
    "print(f'ELA Row Count: {len(ela_all)}')\n",
    "print(list(ela_all.columns))\n",
    "\n",
    "# Math\n",
    "math_results = requests.get(math_all_url).json()\n",
    "\n",
    "math_all = pd.DataFrame(math_results)\n",
    "math_all.head()\n",
    "print(f'Math Row Count: {len(math_all)}')\n",
    "print(list(math_all.columns))\n",
    "\n",
    "math_all.head(1)"
   ]
  },
  {
   "cell_type": "markdown",
   "metadata": {},
   "source": [
    "#### Results by Economic Status"
   ]
  },
  {
   "cell_type": "code",
   "execution_count": 15,
   "metadata": {},
   "outputs": [
    {
     "name": "stdout",
     "output_type": "stream",
     "text": [
      "ELA Row Count: 350\n",
      "['borough', 'grade', 'year', 'category', 'number_tested', 'mean_scale_score', 'level1_n', 'level1_', 'level2_n', 'level2_', 'level3_n', 'level3_', 'level4_n', 'level4_', 'level3_4_n', 'level3_4_']\n",
      "Math Row Count: 350\n",
      "['borough', 'grade', 'year', 'category', 'number_tested', 'mean_scale_score', 'level1_n', 'level1_', 'level2_n', 'level2_', 'level3_n', 'level3_', 'level4_n', 'level4_', 'level3_4_n', 'level3_4_']\n"
     ]
    },
    {
     "data": {
      "text/html": [
       "<div>\n",
       "<style scoped>\n",
       "    .dataframe tbody tr th:only-of-type {\n",
       "        vertical-align: middle;\n",
       "    }\n",
       "\n",
       "    .dataframe tbody tr th {\n",
       "        vertical-align: top;\n",
       "    }\n",
       "\n",
       "    .dataframe thead th {\n",
       "        text-align: right;\n",
       "    }\n",
       "</style>\n",
       "<table border=\"1\" class=\"dataframe\">\n",
       "  <thead>\n",
       "    <tr style=\"text-align: right;\">\n",
       "      <th></th>\n",
       "      <th>borough</th>\n",
       "      <th>grade</th>\n",
       "      <th>year</th>\n",
       "      <th>category</th>\n",
       "      <th>number_tested</th>\n",
       "      <th>mean_scale_score</th>\n",
       "      <th>level1_n</th>\n",
       "      <th>level1_</th>\n",
       "      <th>level2_n</th>\n",
       "      <th>level2_</th>\n",
       "      <th>level3_n</th>\n",
       "      <th>level3_</th>\n",
       "      <th>level4_n</th>\n",
       "      <th>level4_</th>\n",
       "      <th>level3_4_n</th>\n",
       "      <th>level3_4_</th>\n",
       "    </tr>\n",
       "  </thead>\n",
       "  <tbody>\n",
       "    <tr>\n",
       "      <td>0</td>\n",
       "      <td>BRONX</td>\n",
       "      <td>3</td>\n",
       "      <td>2013</td>\n",
       "      <td>Econ Disadv</td>\n",
       "      <td>14584</td>\n",
       "      <td>286</td>\n",
       "      <td>7613</td>\n",
       "      <td>52.2</td>\n",
       "      <td>4763</td>\n",
       "      <td>32.7</td>\n",
       "      <td>2089</td>\n",
       "      <td>14.3</td>\n",
       "      <td>119</td>\n",
       "      <td>0.8</td>\n",
       "      <td>2208</td>\n",
       "      <td>15.1</td>\n",
       "    </tr>\n",
       "  </tbody>\n",
       "</table>\n",
       "</div>"
      ],
      "text/plain": [
       "  borough grade  year     category number_tested mean_scale_score level1_n  \\\n",
       "0   BRONX     3  2013  Econ Disadv         14584              286     7613   \n",
       "\n",
       "  level1_ level2_n level2_ level3_n level3_ level4_n level4_ level3_4_n  \\\n",
       "0    52.2     4763    32.7     2089    14.3      119     0.8       2208   \n",
       "\n",
       "  level3_4_  \n",
       "0      15.1  "
      ]
     },
     "execution_count": 15,
     "metadata": {},
     "output_type": "execute_result"
    }
   ],
   "source": [
    "# retrieve 2013-2017 test results by economic status\n",
    "\n",
    "# ELA\n",
    "ela_results = requests.get(ela_eco_url).json()\n",
    "\n",
    "ela_eco = pd.DataFrame(ela_results)\n",
    "ela_eco.head()\n",
    "print(f'ELA Row Count: {len(ela_eco)}')\n",
    "print(list(ela_eco.columns))\n",
    "\n",
    "# Math\n",
    "math_results = requests.get(math_eco_url).json()\n",
    "\n",
    "math_eco = pd.DataFrame(math_results)\n",
    "math_eco.head()\n",
    "print(f'Math Row Count: {len(math_eco)}')\n",
    "print(list(math_eco.columns))\n",
    "\n",
    "ela_eco.head(1)"
   ]
  },
  {
   "cell_type": "markdown",
   "metadata": {},
   "source": [
    "#### Results by Race/Ethnicity"
   ]
  },
  {
   "cell_type": "code",
   "execution_count": 16,
   "metadata": {},
   "outputs": [
    {
     "name": "stdout",
     "output_type": "stream",
     "text": [
      "ELA Row Count: 700\n",
      "['borough', 'grade', 'year', 'category', 'number_tested', 'mean_scale_score', 'level1_n', 'level1_', 'level2_n', 'level2_', 'level3_n', 'level3_', 'level4_n', 'level4_', 'level3_4_n', 'level3_4_']\n",
      "Math Row Count: 700\n",
      "['borough', 'grade', 'year', 'category', 'number_tested', 'mean_scale_score', 'level1_n', 'level1_', 'level2_n', 'level2_', 'level3_n', 'level3_', 'level4_n', 'level4_', 'level3_4_n', 'level3_4_']\n"
     ]
    },
    {
     "data": {
      "text/html": [
       "<div>\n",
       "<style scoped>\n",
       "    .dataframe tbody tr th:only-of-type {\n",
       "        vertical-align: middle;\n",
       "    }\n",
       "\n",
       "    .dataframe tbody tr th {\n",
       "        vertical-align: top;\n",
       "    }\n",
       "\n",
       "    .dataframe thead th {\n",
       "        text-align: right;\n",
       "    }\n",
       "</style>\n",
       "<table border=\"1\" class=\"dataframe\">\n",
       "  <thead>\n",
       "    <tr style=\"text-align: right;\">\n",
       "      <th></th>\n",
       "      <th>borough</th>\n",
       "      <th>grade</th>\n",
       "      <th>year</th>\n",
       "      <th>category</th>\n",
       "      <th>number_tested</th>\n",
       "      <th>mean_scale_score</th>\n",
       "      <th>level1_n</th>\n",
       "      <th>level1_</th>\n",
       "      <th>level2_n</th>\n",
       "      <th>level2_</th>\n",
       "      <th>level3_n</th>\n",
       "      <th>level3_</th>\n",
       "      <th>level4_n</th>\n",
       "      <th>level4_</th>\n",
       "      <th>level3_4_n</th>\n",
       "      <th>level3_4_</th>\n",
       "    </tr>\n",
       "  </thead>\n",
       "  <tbody>\n",
       "    <tr>\n",
       "      <td>0</td>\n",
       "      <td>BRONX</td>\n",
       "      <td>3</td>\n",
       "      <td>2013</td>\n",
       "      <td>Asian</td>\n",
       "      <td>631</td>\n",
       "      <td>312</td>\n",
       "      <td>131</td>\n",
       "      <td>20.8</td>\n",
       "      <td>196</td>\n",
       "      <td>31.1</td>\n",
       "      <td>173</td>\n",
       "      <td>27.4</td>\n",
       "      <td>131</td>\n",
       "      <td>20.8</td>\n",
       "      <td>304</td>\n",
       "      <td>48.2</td>\n",
       "    </tr>\n",
       "  </tbody>\n",
       "</table>\n",
       "</div>"
      ],
      "text/plain": [
       "  borough grade  year category number_tested mean_scale_score level1_n  \\\n",
       "0   BRONX     3  2013    Asian           631              312      131   \n",
       "\n",
       "  level1_ level2_n level2_ level3_n level3_ level4_n level4_ level3_4_n  \\\n",
       "0    20.8      196    31.1      173    27.4      131    20.8        304   \n",
       "\n",
       "  level3_4_  \n",
       "0      48.2  "
      ]
     },
     "execution_count": 16,
     "metadata": {},
     "output_type": "execute_result"
    }
   ],
   "source": [
    "# retrieve 2013-2017 test results by race/ethnicity\n",
    "\n",
    "# ELA\n",
    "ela_results = requests.get(ela_race_url).json()\n",
    "\n",
    "ela_race = pd.DataFrame(ela_results)\n",
    "ela_race.head()\n",
    "print(f'ELA Row Count: {len(ela_race)}')\n",
    "print(list(ela_race.columns))\n",
    "\n",
    "# Math\n",
    "math_results = requests.get(math_race_url).json()\n",
    "\n",
    "math_race = pd.DataFrame(math_results)\n",
    "math_eco.head()\n",
    "print(f'Math Row Count: {len(math_race)}')\n",
    "print(list(math_race.columns))\n",
    "\n",
    "math_race.head(1)"
   ]
  },
  {
   "cell_type": "markdown",
   "metadata": {},
   "source": [
    "#### Results by Gender"
   ]
  },
  {
   "cell_type": "code",
   "execution_count": 17,
   "metadata": {},
   "outputs": [
    {
     "name": "stdout",
     "output_type": "stream",
     "text": [
      "ELA Row Count: 350\n",
      "['borough', 'grade', 'year', 'category', 'number_tested', 'mean_scale_score', 'level1_n', 'level1_', 'level2_n', 'level2_', 'level3_n', 'level3_', 'level4_n', 'level4_', 'level3_4_n', 'level3_4_']\n",
      "Math Row Count: 350\n",
      "['borough', 'grade', 'year', 'category', 'number_tested', 'mean_scale_score', 'level1_n', 'level1_', 'level2_n', 'level2_', 'level3_n', 'level3_', 'level4_n', 'level4_', 'level3_4_n', 'level3_4_']\n"
     ]
    },
    {
     "data": {
      "text/html": [
       "<div>\n",
       "<style scoped>\n",
       "    .dataframe tbody tr th:only-of-type {\n",
       "        vertical-align: middle;\n",
       "    }\n",
       "\n",
       "    .dataframe tbody tr th {\n",
       "        vertical-align: top;\n",
       "    }\n",
       "\n",
       "    .dataframe thead th {\n",
       "        text-align: right;\n",
       "    }\n",
       "</style>\n",
       "<table border=\"1\" class=\"dataframe\">\n",
       "  <thead>\n",
       "    <tr style=\"text-align: right;\">\n",
       "      <th></th>\n",
       "      <th>borough</th>\n",
       "      <th>grade</th>\n",
       "      <th>year</th>\n",
       "      <th>category</th>\n",
       "      <th>number_tested</th>\n",
       "      <th>mean_scale_score</th>\n",
       "      <th>level1_n</th>\n",
       "      <th>level1_</th>\n",
       "      <th>level2_n</th>\n",
       "      <th>level2_</th>\n",
       "      <th>level3_n</th>\n",
       "      <th>level3_</th>\n",
       "      <th>level4_n</th>\n",
       "      <th>level4_</th>\n",
       "      <th>level3_4_n</th>\n",
       "      <th>level3_4_</th>\n",
       "    </tr>\n",
       "  </thead>\n",
       "  <tbody>\n",
       "    <tr>\n",
       "      <td>0</td>\n",
       "      <td>BRONX</td>\n",
       "      <td>3</td>\n",
       "      <td>2013</td>\n",
       "      <td>Female</td>\n",
       "      <td>7553</td>\n",
       "      <td>292</td>\n",
       "      <td>3378</td>\n",
       "      <td>44.7</td>\n",
       "      <td>2681</td>\n",
       "      <td>35.5</td>\n",
       "      <td>1385</td>\n",
       "      <td>18.3</td>\n",
       "      <td>109</td>\n",
       "      <td>1.4</td>\n",
       "      <td>1494</td>\n",
       "      <td>19.8</td>\n",
       "    </tr>\n",
       "  </tbody>\n",
       "</table>\n",
       "</div>"
      ],
      "text/plain": [
       "  borough grade  year category number_tested mean_scale_score level1_n  \\\n",
       "0   BRONX     3  2013   Female          7553              292     3378   \n",
       "\n",
       "  level1_ level2_n level2_ level3_n level3_ level4_n level4_ level3_4_n  \\\n",
       "0    44.7     2681    35.5     1385    18.3      109     1.4       1494   \n",
       "\n",
       "  level3_4_  \n",
       "0      19.8  "
      ]
     },
     "execution_count": 17,
     "metadata": {},
     "output_type": "execute_result"
    }
   ],
   "source": [
    "# retrieve 2013-2017 test results by gender\n",
    "\n",
    "# ELA\n",
    "ela_results = requests.get(ela_gender_url).json()\n",
    "\n",
    "ela_gender = pd.DataFrame(ela_results)\n",
    "ela_gender.head()\n",
    "print(f'ELA Row Count: {len(ela_gender)}')\n",
    "print(list(ela_gender.columns))\n",
    "\n",
    "# Math\n",
    "math_results = requests.get(math_gender_url).json()\n",
    "\n",
    "math_gender = pd.DataFrame(math_results)\n",
    "math_gender.head()\n",
    "print(f'Math Row Count: {len(math_gender)}')\n",
    "print(list(math_gender.columns))\n",
    "\n",
    "ela_gender.head(1)"
   ]
  },
  {
   "cell_type": "markdown",
   "metadata": {},
   "source": [
    "### Data to csv files"
   ]
  },
  {
   "cell_type": "code",
   "execution_count": 22,
   "metadata": {},
   "outputs": [],
   "source": [
    "# data to csv\n",
    "\n",
    "# all students\n",
    "ela_all.to_csv(\"Data/ela_all.csv\")\n",
    "math_all.to_csv(\"Data/math_all.csv\")\n",
    "\n",
    "# economic status\n",
    "ela_eco.to_csv(\"Data/ela_eco.csv\")\n",
    "math_eco.to_csv(\"Data/math_eco.csv\")\n",
    "\n",
    "# race/ethnicity\n",
    "ela_race.to_csv(\"Data/ela_race.csv\")\n",
    "math_race.to_csv(\"Data/math_race.csv\")\n",
    "\n",
    "# gender\n",
    "ela_gender.to_csv(\"Data/ela_gender.csv\")\n",
    "math_gender.to_csv(\"Data/math_gender.csv\")"
   ]
  },
  {
   "cell_type": "markdown",
   "metadata": {},
   "source": [
    "## Data Cleaning and Exploration"
   ]
  },
  {
   "cell_type": "code",
   "execution_count": null,
   "metadata": {},
   "outputs": [],
   "source": []
  }
 ],
 "metadata": {
  "kernelspec": {
   "display_name": "Python 3",
   "language": "python",
   "name": "python3"
  },
  "language_info": {
   "codemirror_mode": {
    "name": "ipython",
    "version": 3
   },
   "file_extension": ".py",
   "mimetype": "text/x-python",
   "name": "python",
   "nbconvert_exporter": "python",
   "pygments_lexer": "ipython3",
   "version": "3.7.4"
  }
 },
 "nbformat": 4,
 "nbformat_minor": 2
}
